{
 "cells": [
  {
   "cell_type": "code",
   "execution_count": 52,
   "id": "9cd0510c",
   "metadata": {},
   "outputs": [],
   "source": [
    "%reset -fs\n",
    "import pandas as pd\n",
    "import numpy as np\n",
    "from sqlalchemy import create_engine"
   ]
  },
  {
   "cell_type": "code",
   "execution_count": 53,
   "id": "f737b2fc",
   "metadata": {},
   "outputs": [],
   "source": [
    "def get_data(week_nums): # method to grab data from website\n",
    "    url = \"http://web.mta.info/developers/data/nyct/turnstile/turnstile_{}.txt\" # url to grab from\n",
    "    dfs = [] # empty list to populate with numbers\n",
    "    for week_num in week_nums: # for each week\n",
    "        file_url = url.format(week_num) # format the url so it grabs that week\n",
    "        dfs.append(pd.read_csv(file_url)) # append to our list\n",
    "    return pd.concat(dfs) # combine files for each week\n"
   ]
  },
  {
   "cell_type": "code",
   "execution_count": 54,
   "id": "45c72d25",
   "metadata": {},
   "outputs": [],
   "source": [
    "spring_nums = [190406, 190413, 190420, 190427, 190504,\n",
    "               190511, 190518, 190525, 190601, 190608, 190615, 190622,] # which weeks' data to use\n",
    "summer_nums = [190629, 190706, 190713, 190720, 190727, 190803, 190810, 190817, 190824, 190831,\n",
    "               190907, 190914, 190921]\n",
    "spring_df = get_data(spring_nums)\n",
    "summer_df = get_data(summer_nums)\n"
   ]
  },
  {
   "cell_type": "code",
   "execution_count": 55,
   "id": "dad1b26c",
   "metadata": {
    "scrolled": false
   },
   "outputs": [],
   "source": [
    "#turnstiles_df[\"DATE\"].unique() # double checking dates used"
   ]
  },
  {
   "cell_type": "code",
   "execution_count": null,
   "id": "77d35583",
   "metadata": {},
   "outputs": [],
   "source": []
  },
  {
   "cell_type": "code",
   "execution_count": 57,
   "id": "043c299a",
   "metadata": {},
   "outputs": [],
   "source": [
    "# Writing a .csv with the correct header as an index\n",
    "#turnstiles_df.to_csv('mta_data_2019.csv', index = False, header = [\"c_a\", \"unit\", \"scp\", \"station\", \n",
    "#                                                                                   \"linename\", \"division\", \"date\",\n",
    "     #                                                                              \"time\", \"desc\", \"entries\", \"exits\"])"
   ]
  },
  {
   "cell_type": "code",
   "execution_count": 58,
   "id": "092487e7",
   "metadata": {},
   "outputs": [],
   "source": [
    "\n",
    "#df = pd.read_csv(\"mta_data_2019.csv\")"
   ]
  },
  {
   "cell_type": "code",
   "execution_count": 59,
   "id": "901d460a",
   "metadata": {
    "scrolled": true
   },
   "outputs": [],
   "source": [
    "#df.columns"
   ]
  },
  {
   "cell_type": "code",
   "execution_count": 60,
   "id": "a2299a9e",
   "metadata": {},
   "outputs": [],
   "source": [
    "#df.describe()"
   ]
  },
  {
   "cell_type": "code",
   "execution_count": null,
   "id": "19cc54e0",
   "metadata": {},
   "outputs": [],
   "source": []
  },
  {
   "cell_type": "code",
   "execution_count": 61,
   "id": "f04516cc",
   "metadata": {},
   "outputs": [],
   "source": [
    "# Reading in earlier header to populate database\n",
    "\n",
    "engine = create_engine(\"sqlite:///mta2019.db\")\n",
    "spring_df.to_sql('mta_data_spring', engine)\n",
    "summer_df.to_sql('mta_data_summer', engine)\n",
    "\n",
    "#df.to_sql('mta_data', engine)\n",
    "\n",
    "#all_data = pd.read_sql('SELECT * FROM mta_data;', engine)"
   ]
  },
  {
   "cell_type": "code",
   "execution_count": null,
   "id": "7e714314",
   "metadata": {},
   "outputs": [],
   "source": []
  }
 ],
 "metadata": {
  "kernelspec": {
   "display_name": "Python 3 (ipykernel)",
   "language": "python",
   "name": "python3"
  },
  "language_info": {
   "codemirror_mode": {
    "name": "ipython",
    "version": 3
   },
   "file_extension": ".py",
   "mimetype": "text/x-python",
   "name": "python",
   "nbconvert_exporter": "python",
   "pygments_lexer": "ipython3",
   "version": "3.9.7"
  }
 },
 "nbformat": 4,
 "nbformat_minor": 5
}
