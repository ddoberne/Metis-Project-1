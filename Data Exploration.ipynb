{
 "cells": [
  {
   "cell_type": "code",
   "execution_count": 701,
   "id": "68807c7f",
   "metadata": {},
   "outputs": [],
   "source": [
    "# Reset and import packages\n",
    "%reset -fs \n",
    "import pandas as pd\n",
    "import numpy as np\n",
    "import matplotlib.pyplot as plt\n",
    "import seaborn as sns\n",
    "from sqlalchemy import create_engine\n",
    "from datetime import datetime, timedelta"
   ]
  },
  {
   "cell_type": "code",
   "execution_count": null,
   "id": "f2317a62",
   "metadata": {},
   "outputs": [],
   "source": [
    "engine = create_engine(\"sqlite:///mta2019.db\")\n",
    "df = pd.read_sql(\"SELECT * \\\n",
    "                  FROM mta_data_spring \\\n",
    "                  WHERE desc = 'REGULAR' AND time LIKE '%00' \\\n",
    "                  UNION \\\n",
    "                  SELECT * \\\n",
    "                  FROM mta_data_summer \\\n",
    "                  WHERE desc = 'REGULAR' AND time LIKE '%00'\", engine)"
   ]
  },
  {
   "cell_type": "code",
   "execution_count": null,
   "id": "5c1cce81",
   "metadata": {
    "scrolled": true
   },
   "outputs": [],
   "source": [
    "df.head()"
   ]
  },
  {
   "cell_type": "code",
   "execution_count": null,
   "id": "2a7bceb5",
   "metadata": {},
   "outputs": [],
   "source": [
    "df.columns"
   ]
  },
  {
   "cell_type": "code",
   "execution_count": null,
   "id": "16023214",
   "metadata": {},
   "outputs": [],
   "source": [
    "# Renaming columns\n",
    "df.columns = ['index', 'c_a', 'unit', 'scp', 'station', 'linename', 'division', 'date', 'time', 'desc', 'entries', 'exits']\n",
    "df.insert(0, 'identifier', df[\"c_a\"] + \"|\" + df[\"unit\"] + \"|\" + df[\"scp\"]) # Cleaning up the columns\n",
    "del df[\"index\"]\n",
    "del [df[\"c_a\"], df[\"unit\"], df[\"scp\"]]"
   ]
  },
  {
   "cell_type": "code",
   "execution_count": null,
   "id": "6db13a41",
   "metadata": {
    "scrolled": true
   },
   "outputs": [],
   "source": [
    "# Combining date + time to datetime object\n",
    "\n",
    "df.insert(4, 'datetime', df['date'] + df['time'])\n",
    "del [df['time']]\n",
    "df['datetime'] = pd.to_datetime(df['datetime'], format = \"%m/%d/%Y%H:%M:%S\")\n",
    "\n",
    "\n",
    "df.head()"
   ]
  },
  {
   "cell_type": "code",
   "execution_count": null,
   "id": "964c9303",
   "metadata": {},
   "outputs": [],
   "source": [
    "df_sorted = df.sort_values(by = ['identifier','datetime']) # sorting to make sure that each turnstile is grouped, the sorted by datetime"
   ]
  },
  {
   "cell_type": "code",
   "execution_count": null,
   "id": "d68c530f",
   "metadata": {},
   "outputs": [],
   "source": [
    "df_sorted['new_entries'] = df_sorted['entries'].diff() # creation of new_entries and new_exits\n",
    "df_sorted['new_exits'] = df_sorted['exits'].diff()\n",
    "df_sorted.head()"
   ]
  },
  {
   "cell_type": "code",
   "execution_count": null,
   "id": "00898f6c",
   "metadata": {},
   "outputs": [],
   "source": [
    "df_sorted = df_sorted[(df_sorted['identifier'] == df_sorted.shift(1)['identifier'])] # making sure no turnstile is being compared to a different\n",
    "                                                                                     # turnstile for new_entries and new_exits\n"
   ]
  },
  {
   "cell_type": "code",
   "execution_count": null,
   "id": "f5e3641b",
   "metadata": {},
   "outputs": [],
   "source": [
    "df_sorted['new_entries'] = df_sorted['new_entries'].abs() # flipping all values to be positive\n",
    "df_sorted['new_exits'] = df_sorted['new_exits'].abs()\n",
    "df_sorted['new_entries'].describe()"
   ]
  },
  {
   "cell_type": "code",
   "execution_count": null,
   "id": "531d6ca0",
   "metadata": {
    "scrolled": true
   },
   "outputs": [],
   "source": [
    "#Figure 2: Cleaning the data - histogram shows values that are within normal range\n",
    "\n",
    "plt.figure(figsize = (12,9))\n",
    "plt.hist(np.log10(df_sorted[\"new_entries\"].abs() + 1), bins = 50) # visualizing distribution of values on a logrithmic scale\n",
    "plt.title(\"Frequency distribution of new entries\")\n",
    "plt.xlabel(\"10^n new entries\")\n",
    "plt.ylabel(\"Frequency\")\n",
    "\n",
    "plt.xlim(0,4)\n",
    "plt.savefig(fname = \"Figure 2.png\")"
   ]
  },
  {
   "cell_type": "code",
   "execution_count": null,
   "id": "9f55315d",
   "metadata": {},
   "outputs": [],
   "source": [
    "df_sorted = df_sorted.loc[~(df_sorted['new_entries'].abs() > 10 ** 3.8)] # getting rid of values > 10 ^ 3.8\n",
    "df_sorted = df_sorted.loc[~(df_sorted['new_exits'].abs() > 10 ** 3.8)]\n",
    "\n",
    "df_sorted_no_outliers = df_sorted.reset_index(drop = True) # resetting the index\n",
    "df_sorted_no_outliers.sort_values(by = 'new_exits', ascending = False).head()"
   ]
  },
  {
   "cell_type": "code",
   "execution_count": null,
   "id": "64c1dd98",
   "metadata": {},
   "outputs": [],
   "source": [
    "df_clean = df_sorted_no_outliers.groupby(by = [\"station\", \"datetime\", \"linename\"], as_index = False)[['new_entries', 'new_exits']].sum()\n",
    "                                                                            \n",
    "df_clean['total_traffic'] = df_clean['new_entries'] + df_clean['new_exits']\n",
    "df_clean['trains_per_h'] = list(zip(df_clean['datetime'], df_clean['linename']))"
   ]
  },
  {
   "cell_type": "code",
   "execution_count": null,
   "id": "5389f658",
   "metadata": {},
   "outputs": [],
   "source": [
    "df_clean.insert(2, 'dow', df_clean['datetime']) # Making a column that only holds day of week and time\n",
    "df_clean['dow'] = df_clean['dow'].apply(lambda x: x.weekday())\n",
    "df_clean['dow'] = df_clean['dow'].map({0: \"M\", # Mapping day of week\n",
    "                     1: \"Tu\",\n",
    "                     2: \"W\",\n",
    "                     3: \"Th\",\n",
    "                     4: \"F\",\n",
    "                     5: \"Sa\",\n",
    "                     6: \"Su\"})\n",
    "df_clean.insert(3, 'time', df_clean['datetime']) \n",
    "df_clean['time'] = df_clean['time'].apply(lambda x: x.time()) # Getting time from datetime\n",
    "df_clean.insert(4, 'daytime', df_clean['dow'].str.cat(df_clean['time'].apply(str), sep = \" \")) # Giving column the format \"dow, time\"\n",
    "df_clean.drop(columns = ['dow', 'time'], inplace = True)"
   ]
  },
  {
   "cell_type": "code",
   "execution_count": null,
   "id": "96aa345c",
   "metadata": {},
   "outputs": [],
   "source": [
    "frequency_table = pd.read_csv(\"NYC Subway - Sheet1.csv\", index_col = 0).T # Reading in the frequency table and transposing it\n",
    "frequency_table.rename({\"Period\":\"Line\"}, inplace = True) # Cleaning up the frequency table\n",
    "frequency_table = 60 / frequency_table # Converting from minutes/train to trains/hour\n",
    "frequency_table.fillna(0, inplace = True) # Getting rid of NAs\n",
    "frequency_table = frequency_table.round(2) # Making it more readeable\n",
    "frequency_table.loc['Z'] = frequency_table.loc[\"J/Z\"] # Splitting the J and Z lines\n",
    "frequency_table.rename(index = {\"J/Z\": \"J\"}, inplace = True)\n",
    "frequency_table"
   ]
  },
  {
   "cell_type": "code",
   "execution_count": null,
   "id": "3dbc67c6",
   "metadata": {},
   "outputs": [],
   "source": [
    "#set(df_clean['linename'].apply(list).sum()) # Checking to make sure I have all the lines accounted for before apply()"
   ]
  },
  {
   "cell_type": "code",
   "execution_count": null,
   "id": "b07ec3f4",
   "metadata": {},
   "outputs": [],
   "source": [
    "# deprecated method to determine train frequency\n",
    "# def trains_per_h_conv(date_and_line): # Takes in a tuple (datetime, line), outputs the frequency of trains during that period\n",
    "#     dt_value = date_and_line[0]\n",
    "#     line = date_and_line[1]\n",
    "#     trains = 0\n",
    "#     if dt_value.time() < datetime(1,1,1, 6, 30, 0).time(): # Determining the time of day it falls under\n",
    "#         code = \"Late nights\"\n",
    "#     elif dt_value.weekday() > 4:\n",
    "#         code = \"Weekends\"\n",
    "#     elif dt_value.time() > datetime(1,1,1, 20, 0, 0).time():\n",
    "#         code = \"Evenings\"\n",
    "#     elif dt_value.time() > datetime(1,1,1, 15, 30, 0).time():\n",
    "#         code = \"Rush hours\"\n",
    "#     elif dt_value.time() > datetime(1,1,1, 9, 30, 0).time():\n",
    "#         code = \"Middays\"\n",
    "#     else:\n",
    "#         code = \"Rush hours\"\n",
    "#     for i in line: # Adding up the trains for all lines this station services\n",
    "#         trains += frequency_table.loc[i, code]\n",
    "#     return trains"
   ]
  },
  {
   "cell_type": "code",
   "execution_count": null,
   "id": "7cb58de9",
   "metadata": {},
   "outputs": [],
   "source": [
    "def trains_per_h_conv_better(date_and_line): # Takes datetime and line as args, returns # of trains\n",
    "    dt_value = date_and_line[0]\n",
    "    dt_ymd = [dt_value.year, dt_value.month, dt_value.day]\n",
    "    line = date_and_line[1]\n",
    "    trains = 0\n",
    "    time_rem = 240 * 60 # Time remaining in 4 hour segment, in seconds\n",
    "    tv = (dt_value - datetime(dt_ymd[0], dt_ymd[1], dt_ymd[2])).seconds # Takes datetime value and isolates time, in seconds\n",
    "    while time_rem > 0: # Will loop back if not all time is used up\n",
    "        if dt_value.weekday() > 4: # if weekend\n",
    "            if tv > time_to_s(6, 30): # if after 6:30am\n",
    "                td = tv - time_to_s(6, 30) # time in interval\n",
    "                trains += calc_trains(min(td, time_rem), line, \"Weekends\") # adding to train count\n",
    "                if time_rem < td: # if 4 hours are up\n",
    "                    break\n",
    "                else:\n",
    "                    time_rem -= td # subtract time used from time remaining\n",
    "                    tv -= td # dialing back current time to check future conditions\n",
    "            td = tv # before 6:30am\n",
    "            trains += calc_trains(min(td, time_rem), line, \"Late nights\")\n",
    "            if time_rem < td:\n",
    "                break\n",
    "            else:\n",
    "                time_rem -=td\n",
    "                tv = 24 * 60 * 60\n",
    "        if tv > time_to_s(20, 0): # if after 8pm\n",
    "            td = tv - time_to_s(20, 0)\n",
    "            trains += calc_trains(min(td, time_rem), line, \"Evenings\")\n",
    "            if time_rem < td:\n",
    "                break\n",
    "            else:\n",
    "                time_rem -= td\n",
    "                tv -= td\n",
    "        if tv > time_to_s(15, 30): # if after 3:30pm\n",
    "            td = tv - time_to_s(15, 30)\n",
    "            trains += calc_trains(min(td, time_rem), line, \"Rush hours\")\n",
    "            if time_rem < td:\n",
    "                break\n",
    "            else:\n",
    "                time_rem -= td\n",
    "                tv -= td\n",
    "        \n",
    "        if tv > time_to_s(9, 30): # if after 9:30am\n",
    "            td = tv - time_to_s(9, 30)\n",
    "            trains += calc_trains(min(td, time_rem), line, \"Middays\")\n",
    "            if time_rem < td:\n",
    "                break\n",
    "            else:\n",
    "                time_rem -= td\n",
    "                tv -= td\n",
    "        \n",
    "        if tv > time_to_s(6, 30): # if after 6:30am\n",
    "            td = tv - time_to_s(6, 30)\n",
    "            trains += calc_trains(min(td, time_rem), line, \"Rush hours\")\n",
    "            if time_rem < td:\n",
    "                break\n",
    "            else:\n",
    "                time_rem -= td\n",
    "                tv -= td\n",
    "        \n",
    "        td = tv\n",
    "        trains += calc_trains(min(td, time_rem), line, \"Late nights\")\n",
    "        if time_rem < td:\n",
    "            break\n",
    "        else:\n",
    "            time_rem -= td\n",
    "            tv = 24 * 60 * 60\n",
    "            dt_value = dt_value - timedelta(days = 1)\n",
    "    return trains\n",
    "                \n",
    "    \n",
    "def calc_trains(td, line, code): # multiplying by seconds, will need to divide by a large number at end (4 * 60 * 60)\n",
    "    out = 0\n",
    "    for i in line:\n",
    "        out += ((frequency_table.loc[i, code]) * td)/(4*60*60)\n",
    "    return out\n",
    "\n",
    "def time_to_s(hours, minutes): # converts hours, minutes to seconds\n",
    "    return (3600 * hours) + (60 * minutes)"
   ]
  },
  {
   "cell_type": "code",
   "execution_count": null,
   "id": "0f26ce84",
   "metadata": {
    "scrolled": true
   },
   "outputs": [],
   "source": [
    "df_clean['trains_per_h'] = df_clean['trains_per_h'].apply(trains_per_h_conv_better) # Going from (line, datetime) to frequency"
   ]
  },
  {
   "cell_type": "code",
   "execution_count": null,
   "id": "7c238bd7",
   "metadata": {},
   "outputs": [],
   "source": [
    "df_clean['avg_wait'] = 0.5 / df_clean['trains_per_h'] # Calculating the average wait at a station (in hours) and the average number of passengers waiting\n",
    "df_clean['avg_waiting'] = df_clean['new_entries'] * df_clean['avg_wait']\n",
    "df_clean.sample(10)"
   ]
  },
  {
   "cell_type": "code",
   "execution_count": null,
   "id": "8155d388",
   "metadata": {},
   "outputs": [],
   "source": [
    "df_clean = df_clean.loc[df_clean['trains_per_h'] > 0] # Getting rid of entries for when no trains would arrive\n",
    "df_clean.sort_values(by = 'avg_waiting', ascending = False).head(25)"
   ]
  },
  {
   "cell_type": "code",
   "execution_count": null,
   "id": "1f17b9fe",
   "metadata": {},
   "outputs": [],
   "source": [
    "# Searching for weekly trends by grouping by day of week, time\n",
    "df_weekly = df_clean.groupby(by = ['station', 'daytime', 'linename', 'trains_per_h'], as_index = False)[['avg_waiting','new_entries', 'total_traffic']].mean().reset_index(drop = True)\n"
   ]
  },
  {
   "cell_type": "code",
   "execution_count": null,
   "id": "8b3e48f8",
   "metadata": {
    "scrolled": true
   },
   "outputs": [],
   "source": [
    "df_weekly = df_weekly.loc[df_weekly['trains_per_h'] > 8].reset_index(drop = True) # Getting rid of times when there are very few trains\n",
    "df_weekly.sort_values(by= 'avg_waiting', ascending = False).head(20)"
   ]
  },
  {
   "cell_type": "code",
   "execution_count": null,
   "id": "f7bd9a29",
   "metadata": {},
   "outputs": [],
   "source": [
    "df_weekly.reset_index(drop = True, inplace = True)\n",
    "df_weekly.reset_index(drop = False, inplace = True)\n",
    "df_weekly.head()"
   ]
  },
  {
   "cell_type": "code",
   "execution_count": null,
   "id": "ab2359e2",
   "metadata": {},
   "outputs": [],
   "source": [
    "# Figure scatter of new_entries vs. trains per h\n",
    "\n",
    "plt.figure(figsize = (12,9))\n",
    "plt.scatter(df_weekly['trains_per_h'], df_weekly['new_entries'], s = 5, alpha = 0.4)\n",
    "plt.xlim(0)\n",
    "plt.ylim(0)\n",
    "plt.xlabel(\"Trains per hour\")\n",
    "plt.ylabel(\"New entries\")\n",
    "plt.title(\"Traffic vs. Train Frequency\")\n",
    "plt.savefig(fname = \"Figure 3.png\")"
   ]
  },
  {
   "cell_type": "code",
   "execution_count": null,
   "id": "2240321b",
   "metadata": {},
   "outputs": [],
   "source": [
    "# Figure 4: notable stations\n",
    "\n",
    "df_fig4 = df_weekly.sort_values(by = 'avg_waiting', ascending = False).groupby('station', as_index = False)[['avg_waiting','index']].first().sort_values(by= 'avg_waiting', ascending = False)\n",
    "df_fig4.head()"
   ]
  },
  {
   "cell_type": "code",
   "execution_count": null,
   "id": "49eb1676",
   "metadata": {},
   "outputs": [],
   "source": [
    "df_weekly.iloc[df_fig4[:20]['index']]"
   ]
  },
  {
   "cell_type": "code",
   "execution_count": null,
   "id": "16041145",
   "metadata": {},
   "outputs": [],
   "source": [
    "fig4_keys = [7537, 2776, 2243, 2123, 2109]\n",
    "fig4 = df_weekly.iloc[fig4_keys]\n",
    "fig4"
   ]
  },
  {
   "cell_type": "code",
   "execution_count": null,
   "id": "e8eccb09",
   "metadata": {},
   "outputs": [],
   "source": [
    "fig, ax1 = plt.subplots()\n",
    "plt.title(\"Recommended Stops\")\n",
    "ax1.bar(fig4['station'], fig4['avg_waiting'])\n",
    "plt.xticks(range(5), labels = ['FLUSHING-MAIN W 7AM', 'ROCKEFELLER STATION W 8PM', 'PENN STATION TU 12PM', '34ST-HUDSON SA 8PM',\n",
    "                     '34ST HERALD SQ W 8PM'],rotation = 70)\n",
    "plt.ylabel(\"Average waiting passengers\")\n",
    "plt.savefig(fname = \"Figure 4-1.png\")"
   ]
  },
  {
   "cell_type": "code",
   "execution_count": null,
   "id": "91c5baa0",
   "metadata": {},
   "outputs": [],
   "source": [
    "\n",
    "fig, ax1 = plt.subplots()\n",
    "\n",
    "plt.xticks(rotation = 70)\n",
    "plt.title(\"Recommended Stops\")\n",
    "color = 'tab:blue'\n",
    "ax1.set_ylabel(\"Average waiting passengers\", color=color)\n",
    "ax1.bar(fig4['station'], fig4['avg_waiting'])\n",
    "#ax1.xticks(range(5), labels = ['FLUSHING-MAIN W 7AM', 'ROCKEFELLER STATION W 7PM', 'PENN STATION TU 9PM', '59ST COLUMBUS SA 7PM',\n",
    "#                     'UNION SQ TU 9PM'],rotation = 70)\n",
    "ax1.tick_params(axis='y', labelcolor=color)\n",
    "\n",
    "ax2 = ax1.twinx()  # Shared axis\n",
    "\n",
    "color = 'tab:green'\n",
    "ax2.set_ylabel('Trains per hour', color=color)  \n",
    "ax2.plot(fig4['station'], fig4['trains_per_h'], color=color, linewidth = 5)\n",
    "ax2.tick_params(axis='y', labelcolor=color)\n",
    "ax2.set_ylim(0)\n",
    "\n",
    "fig.tight_layout() \n",
    "plt.show()\n",
    "plt.savefig(fname = \"Figure 4-2.png\")"
   ]
  },
  {
   "cell_type": "code",
   "execution_count": null,
   "id": "4c9f6bfd",
   "metadata": {},
   "outputs": [],
   "source": [
    "#Figure 1: Displaying busiest stations based on total traffic\n",
    "df_fig1 = df_weekly.sort_values(by = 'total_traffic', ascending = False).groupby('station', as_index = False)[['total_traffic','index']].first().sort_values(by= 'total_traffic', ascending = False).head()['index']\n",
    "df_fig1 = df_weekly.iloc[df_fig1]"
   ]
  },
  {
   "cell_type": "code",
   "execution_count": null,
   "id": "9becf797",
   "metadata": {},
   "outputs": [],
   "source": [
    "\n",
    "plt.figure(figsize = (12,9))\n",
    "fig, ax1 = plt.subplots()\n",
    "\n",
    "plt.xticks(rotation = 70)\n",
    "plt.title(\"The Busiest MTA Stops\")\n",
    "\n",
    "color = 'tab:blue'\n",
    "ax1.set_ylabel('Total traffic', color=color)\n",
    "ax1.bar(df_fig1['station'].tolist(), df_fig1['total_traffic'], color=color)\n",
    "\n",
    "ax1.tick_params(axis='y', labelcolor=color)\n",
    "\n",
    "ax2 = ax1.twinx()  # Shared axis\n",
    "\n",
    "color = 'tab:green'\n",
    "ax2.set_ylabel('Trains per hour', color=color)  \n",
    "ax2.plot(df_fig1['station'], df_fig1['trains_per_h'], color=color, linewidth = 5)\n",
    "ax2.tick_params(axis='y', labelcolor=color)\n",
    "ax2.set_ylim(0)\n",
    "\n",
    "#fig.tight_layout() \n",
    "plt.show()\n",
    "plt.savefig('Figure 1-2.png')"
   ]
  },
  {
   "cell_type": "code",
   "execution_count": null,
   "id": "6383e2ed",
   "metadata": {
    "scrolled": false
   },
   "outputs": [],
   "source": [
    "\n",
    "plt.figure(figsize = (12,9))\n",
    "fig, ax1 = plt.subplots()\n",
    "\n",
    "plt.xticks(rotation = 70)\n",
    "plt.title(\"The Busiest MTA Stops\")\n",
    "\n",
    "color = 'tab:blue'\n",
    "ax1.set_ylabel('Total traffic', color=color)\n",
    "ax1.bar(df_fig1['station'].tolist(), df_fig1['total_traffic'], color=color)\n",
    "\n",
    "ax1.tick_params(axis='y', labelcolor=color)\n",
    "plt.savefig('Figure 1-1.png')"
   ]
  },
  {
   "cell_type": "code",
   "execution_count": null,
   "id": "6853dfe2",
   "metadata": {},
   "outputs": [],
   "source": []
  },
  {
   "cell_type": "code",
   "execution_count": null,
   "id": "54da199c",
   "metadata": {},
   "outputs": [],
   "source": []
  }
 ],
 "metadata": {
  "kernelspec": {
   "display_name": "Python 3 (ipykernel)",
   "language": "python",
   "name": "python3"
  },
  "language_info": {
   "codemirror_mode": {
    "name": "ipython",
    "version": 3
   },
   "file_extension": ".py",
   "mimetype": "text/x-python",
   "name": "python",
   "nbconvert_exporter": "python",
   "pygments_lexer": "ipython3",
   "version": "3.9.7"
  }
 },
 "nbformat": 4,
 "nbformat_minor": 5
}
